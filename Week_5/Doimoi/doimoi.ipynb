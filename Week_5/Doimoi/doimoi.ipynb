{
  "nbformat": 4,
  "nbformat_minor": 0,
  "metadata": {
    "colab": {
      "name": "doimoi.ipynb",
      "provenance": [],
      "collapsed_sections": []
    },
    "kernelspec": {
      "name": "python3",
      "display_name": "Python 3"
    },
    "language_info": {
      "name": "python"
    }
  },
  "cells": [
    {
      "cell_type": "markdown",
      "metadata": {
        "id": "MJ3RZWkn1RX9"
      },
      "source": [
        "[![Open In Colab](https://colab.research.google.com/assets/colab-badge.svg)](https://colab.research.google.com/drive/1oeCvMoL1x5OIqu6ftcuVZO8pbpxSir15?usp=sharing)"
      ]
    },
    {
      "cell_type": "markdown",
      "metadata": {
        "id": "pp1ZV7n_xEyX"
      },
      "source": [
        "CS112.L21-N10\n",
        "1. 19521322 Huỳnh Ngọc Công Danh\n",
        "\n",
        "2. 19521917 Nguyễn Ngọc Thái Nguyên\n",
        "\n",
        "3. 19521836 Lê Quang Minh\n",
        "\n",
        "4. 19521858 Võ Tuấn Minh\n",
        "\n",
        "## 1.Abstraction(Trừu tượng)\n",
        "Tìm i thích hợp để kq = m*k*số chu kì đã chặt được cây*i\n",
        "\n",
        "Điều kiện:\n",
        "\n",
        "1 ≤ a, b ≤ 109, 2 ≤ k, m ≤ 1018, 1 ≤ n ≤ 1018)\n",
        "## 2.Pattern Recognition (NHẬN DIỆN KHUÔN MẪU)\n",
        "Kỹ thuật : Sử dụng công thức tối ưu để tìm nghiệm bài toán\n",
        "## 3. ALGORITHM DESIGNED (THIẾT KẾ THUẬT TOÁN)\n",
        "Mã Giả:\n",
        "\n",
        "SET a, k, b, m, n TO list(map(int, INPUT().split()))\n",
        "\n",
        "SET socaymoichukylon TO m * (k - 1) * a + k * (m - 1) * b\n",
        "\n",
        "SET sochukydachat TO n // socaymoichukylon\n",
        "\n",
        "SET socayconlai TO n % socaymoichukylon\n",
        "\n",
        "\n",
        "\n",
        "SET i TO 0\n",
        "\n",
        "IF not socayconlai:\n",
        "\n",
        "    SET i TO -1\n",
        "\n",
        "ELSE:\n",
        "\n",
        "    SET i TO int(socayconlai // (a + b - a / k - b / m))\n",
        "\n",
        "    WHILE (a + b) * i - a * (i // k) - b * (i // m) >= socayconlai:\n",
        "\n",
        "        i -= 1\n",
        "\n",
        "\n",
        "\n",
        "    WHILE (a + b) * i - a * (i // k) - b * (i // m) < socayconlai:\n",
        "\n",
        "        i += 1\n",
        "\n",
        "\n",
        "\n",
        "SET ans TO m * k * sochukydachat + int(i)\n",
        "\n",
        "OUTPUT(ans)\n",
        "\n",
        "## 4.Dộ phức tạp thuật toán\n",
        "Độ phức tạp : O(1)\n",
        "\n",
        "## 5.Code mẫu\n"
      ]
    },
    {
      "cell_type": "code",
      "metadata": {
        "colab": {
          "base_uri": "https://localhost:8080/"
        },
        "id": "iwPajJknxypu",
        "outputId": "156a422c-6605-4900-d276-18614ca860e7"
      },
      "source": [
        "a, k, b, m, n = list(map(int, input().split()))\n",
        "socaymoichukylon = m * (k - 1) * a + k * (m - 1) * b\n",
        "sochukydachat = n // socaymoichukylon\n",
        "socayconlai = n % socaymoichukylon\n",
        "\n",
        "i = 0\n",
        "if not socayconlai:\n",
        "    i = -1\n",
        "else:\n",
        "    i = int(socayconlai // (a + b - a / k - b / m))\n",
        "    while (a + b) * i - a * (i // k) - b * (i // m) >= socayconlai:\n",
        "        i -= 1\n",
        "\n",
        "    while (a + b) * i - a * (i // k) - b * (i // m) < socayconlai:\n",
        "        i += 1\n",
        "\n",
        "ans = m * k * sochukydachat + int(i)\n",
        "print(ans)"
      ],
      "execution_count": 1,
      "outputs": [
        {
          "output_type": "stream",
          "text": [
            "2 4 3 3 25\n",
            "7\n"
          ],
          "name": "stdout"
        }
      ]
    }
  ]
}