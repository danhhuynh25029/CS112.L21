{
  "nbformat": 4,
  "nbformat_minor": 0,
  "metadata": {
    "colab": {
      "name": "Untitled2.ipynb",
      "provenance": [],
      "collapsed_sections": []
    },
    "kernelspec": {
      "name": "python3",
      "display_name": "Python 3"
    },
    "language_info": {
      "name": "python"
    }
  },
  "cells": [
    {
      "cell_type": "markdown",
      "metadata": {
        "id": "i1h34WWJvbNu"
      },
      "source": [
        "[![Open In Colab](https://colab.research.google.com/assets/colab-badge.svg)](https://colab.research.google.com/drive/1LrUbHaBGtlVoT5PPGOe1Fwxj5zlcrWeL?authuser=1)"
      ]
    },
    {
      "cell_type": "markdown",
      "metadata": {
        "id": "3nUQLiaXvb2m"
      },
      "source": [
        "CS112.L21-N10\n",
        "1. 19521322 Huỳnh Ngọc Công Danh\n",
        "\n",
        "2. 19521917 Nguyễn Ngọc Thái Nguyên\n",
        "\n",
        "3. 19521836 Lê Quang Minh\n",
        "\n",
        "4. 19521858 Võ Tuấn Minh\n",
        "\n",
        "## 1.Abstraction(Trừu tượng)\n",
        "Sắp xếp chuỗi số đạt giá trị lớn nhất.\n",
        "Diều kiện:\n",
        "Tổng chuỗi số  chia hết cho 3\n",
        "## 2.Pattern Recognition (NHẬN DIỆN KHUÔN MẪU)\n",
        "Kỹ thuật : Sắp xếp\n",
        "## 3. ALGORITHM DESIGNED (THIẾT KẾ THUẬT TOÁN)\n",
        "Mã Giả:\n",
        "\n",
        "SET j TO INPUT().rstrip().lstrip()\n",
        "\n",
        "SET arr TO list(j)\n",
        "\n",
        "SET arr TO list(map(int,arr))\n",
        "\n",
        "arr.sort(reverse=True)\n",
        "\n",
        "SET s TO sum(arr)\n",
        "\n",
        "SET c TO []\n",
        "\n",
        "SET tmp TO s % 3\n",
        "\n",
        "IF s % 3 EQUALS 0:\n",
        "\n",
        "    OUTPUT(*arr,sep=\"\")\n",
        "\n",
        "ELSE:\n",
        "\n",
        "    IF tmp EQUALS 1:\n",
        "\n",
        "        SET arr1 TO []\n",
        "\n",
        "        SET arr2 TO []\n",
        "\n",
        "        FOR i IN arr:\n",
        "\n",
        "            IF i % 3 EQUALS 1:\n",
        "\n",
        "                arr1.append(i)\n",
        "\n",
        "            IF i % 3 EQUALS 2:\n",
        "\n",
        "                arr2.append(i)\n",
        "\n",
        "        IF len(arr1) != 0:\n",
        "\n",
        "            IF (s - min(arr1)) % 3 ==0:\n",
        "\n",
        "                arr.pop(arr.index((min(arr1))))\n",
        "\n",
        "        ELSE:\n",
        "\n",
        "            FOR i IN arr2:\n",
        "\n",
        "                arr.pop(arr.index(i))\n",
        "\n",
        "    IF tmp EQUALS 2:\n",
        "\n",
        "        SET arr1 TO []\n",
        "\n",
        "        SET arr2 TO []\n",
        "\n",
        "        FOR i IN arr:\n",
        "\n",
        "            IF i % 3 EQUALS 1:\n",
        "\n",
        "                arr1.append(i)\n",
        "\n",
        "            IF i % 3 EQUALS 2:\n",
        "\n",
        "                arr2.append(i)\n",
        "\n",
        "        IF len(arr2) != 0:\n",
        "\n",
        "            IF (s - min(arr2))%3 EQUALS 0:\n",
        "\n",
        "                arr.pop(arr.index((min(arr2))))\n",
        "\n",
        "        ELSE:\n",
        "\n",
        "            FOR i IN arr1:\n",
        "\n",
        "                arr.pop(arr.index(i))\n",
        "\n",
        "    OUTPUT(*arr,sep=\"\")\n",
        "## 4.Đánh giá độ phức tạp\n",
        "Độ phức tạp thuật toán : O(n) \n",
        "## 5.Code Mẫu\n"
      ]
    },
    {
      "cell_type": "code",
      "metadata": {
        "colab": {
          "base_uri": "https://localhost:8080/"
        },
        "id": "QN-wGaVUwQgJ",
        "outputId": "1ba93fc4-4e4c-4b20-f56a-105465bd59ed"
      },
      "source": [
        "j = input().rstrip().lstrip()\n",
        "arr = list(j)\n",
        "arr = list(map(int,arr))\n",
        "arr.sort(reverse=True)\n",
        "s = sum(arr)\n",
        "c = []\n",
        "tmp = s % 3\n",
        "if s % 3 == 0:\n",
        "    print(*arr,sep=\"\")\n",
        "else:\n",
        "    if tmp == 1:\n",
        "        arr1 = []\n",
        "        arr2 = []\n",
        "        for i in arr:\n",
        "            if i % 3 == 1:\n",
        "                arr1.append(i)\n",
        "            if i % 3 == 2:\n",
        "                arr2.append(i)\n",
        "        if len(arr1) != 0:\n",
        "            if (s - min(arr1)) % 3 ==0:\n",
        "                arr.pop(arr.index((min(arr1))))\n",
        "        else:\n",
        "            for i in arr2:\n",
        "                arr.pop(arr.index(i))\n",
        "    if tmp == 2:\n",
        "        arr1 = []\n",
        "        arr2 = []\n",
        "        for i in arr:\n",
        "            if i % 3 == 1:\n",
        "                arr1.append(i)\n",
        "            if i % 3 == 2:\n",
        "                arr2.append(i)\n",
        "        if len(arr2) != 0:\n",
        "            if (s - min(arr2))%3 == 0:\n",
        "                arr.pop(arr.index((min(arr2))))\n",
        "        else:\n",
        "            for i in arr1:\n",
        "                arr.pop(arr.index(i))\n",
        "    print(*arr,sep=\"\")"
      ],
      "execution_count": 1,
      "outputs": [
        {
          "output_type": "stream",
          "text": [
            "105\n",
            "510\n"
          ],
          "name": "stdout"
        }
      ]
    }
  ]
}