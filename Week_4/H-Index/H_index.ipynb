{
  "nbformat": 4,
  "nbformat_minor": 0,
  "metadata": {
    "colab": {
      "name": "H_index.ipynb",
      "provenance": [],
      "collapsed_sections": []
    },
    "kernelspec": {
      "name": "python3",
      "display_name": "Python 3"
    },
    "language_info": {
      "name": "python"
    }
  },
  "cells": [
    {
      "cell_type": "markdown",
      "metadata": {
        "id": "YX1_iQISoKXZ"
      },
      "source": [
        "[![Open In Colab](https://colab.research.google.com/assets/colab-badge.svg)](https://colab.research.google.com/drive/1LrUbHaBGtlVoT5PPGOe1Fwxj5zlcrWeL?authuser=1)"
      ]
    },
    {
      "cell_type": "markdown",
      "metadata": {
        "id": "JBTjlfvioPEG"
      },
      "source": [
        "#CS112.L21-N10\n",
        "**1.\t19521322\tHuỳnh Ngọc Công Danh**\t\n",
        "\n",
        "**2.\t19521917\tNguyễn Ngọc Thái Nguyên**\n",
        "\n",
        "**3.\t19521836\tLê Quang Minh**\n",
        "\n",
        "**4.\t19521858\tVõ Tuấn Minh**\n",
        "\n",
        "## 1.Abstraction(Trừu tượng)\n",
        "Cho Dãy số nguyên n phần tử  c1,c2,...,cn.Tìm k lớn nhất sao cho có ít nhất k phần tử lớn hơn hoặc bằng k\n",
        "\n",
        "Điều kiện:\n",
        "\\begin{aligned}\n",
        "1 <= n <= 5*10^5 \\;\\textit{    }\n",
        "\\end{aligned}\n",
        "\\begin{aligned}\n",
        "0 <= ci <= 10^6, \\;\\textit{    }\n",
        "i &= \\frac{ 1 }{ n }\\;\\textit{    }\n",
        "\\end{aligned}\n",
        "## 2.Pattern Recognition (NHẬN DIỆN KHUÔN MẪU)\n",
        "Kỹ thuật : Sắp xếp\n",
        "\n",
        "## 3. ALGORITHM DESIGNED (THIẾT KẾ THUẬT TOÁN)\n",
        "Mã giả:\n",
        "\n",
        "DEFINE FUNCTION solve(a,n):\n",
        "\n",
        "    a.sort(reverse=True)\n",
        "\n",
        "    FOR i IN range(n):\n",
        "\n",
        "        IF a[i]< i+1:\n",
        "\n",
        "            RETURN i\n",
        "\n",
        "    ELSE:\n",
        "\n",
        "        RETURN n\n",
        "\n",
        "\n",
        "\n",
        "SET n TO int(INPUT())\n",
        "\n",
        "SET a TO list(map(int,INPUT().split()))\n",
        "\n",
        "OUTPUT(solve(a,n))\n",
        "## 4.Đánh giá độ phức tạp\n",
        "Độ phức tạp thuật toán : O(n)\n",
        "## 5.Code Mẫu\n"
      ]
    },
    {
      "cell_type": "code",
      "metadata": {
        "colab": {
          "base_uri": "https://localhost:8080/"
        },
        "id": "tw80M9BTu7JX",
        "outputId": "2d2c2468-3a15-40c9-e9b6-9ebb1e3263ef"
      },
      "source": [
        "def solve(a,n):\n",
        "    a.sort(reverse=True)\n",
        "    for i in range(n):\n",
        "        if a[i]< i+1:\n",
        "            return i\n",
        "    else:\n",
        "        return n\n",
        "\n",
        "n = int(input())\n",
        "a = list(map(int,input().split()))\n",
        "print(solve(a,n))\n"
      ],
      "execution_count": null,
      "outputs": [
        {
          "output_type": "stream",
          "text": [
            "5\n",
            " 8 5 3 4 10\n",
            "4\n"
          ],
          "name": "stdout"
        }
      ]
    }
  ]
}