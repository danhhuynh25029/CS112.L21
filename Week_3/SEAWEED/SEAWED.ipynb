{
  "nbformat": 4,
  "nbformat_minor": 0,
  "metadata": {
    "colab": {
      "name": "SEAWED.ipynb",
      "provenance": [],
      "collapsed_sections": []
    },
    "kernelspec": {
      "name": "python3",
      "display_name": "Python 3"
    },
    "language_info": {
      "name": "python"
    }
  },
  "cells": [
    {
      "cell_type": "markdown",
      "metadata": {
        "id": "jYMRmlW-ago2"
      },
      "source": [
        "## 1. ABSTRACTION (TRỪU TƯỢNG HÓA)\n",
        "Với 2 số nguyên n và k (1 ≤ n ≤ 1000, 1 ≤ k ≤ 1017) hãy xác định số i sau k ngày theo quy luật cho trước\n",
        "## 2. PATTERN RECOGNIZATION (NHẬN DIỆN KHUÔN MẪU)\n",
        "Đặc điểm nhận dạng:\n",
        "\n",
        " + Ta thấy việc tăng số  lương tăng lên theo quy luật của số fibonaci\n",
        "Kỹ thuật áp dung:\n",
        " + Quy hoạch động.Do mướn tính được số fibonacci(n) thì ta phải tính fibo(n-1) và fibo(n-2)\n",
        " + Để giải quyết bài toán này t phải giải quyết bài toán con mà kết quả được lưu trữ trước đó\n",
        "\n",
        "## 3. ALGORITHM DESIGNED (THIẾT KẾ THUẬT TOÁN)\n",
        "Tạo mảng 2*n+1 phần tử và sử dụng công thức F[i] = F[i-1] + F[i-2]\n",
        "## 4. Đánh giá độ phức tạp\n",
        "Độ phức tạp thuật toán : O(n)\n",
        "## 5. Code mẫu"
      ]
    },
    {
      "cell_type": "code",
      "metadata": {
        "colab": {
          "base_uri": "https://localhost:8080/"
        },
        "id": "8_08GCp-eN1S",
        "outputId": "54df4c79-adad-43da-e3af-3bb72ba33745"
      },
      "source": [
        "mod = int(1e9+7)\n",
        "\n",
        "def mul(a,b):\n",
        "    global mod    \n",
        "    x = a[0][0]*b[0][0]+a[0][1]*b[1][0]\n",
        "    y = a[0][0]*b[0][1]+a[0][1]*b[1][1]\n",
        "    z = a[1][0]*b[0][0]+a[1][1]*b[1][0]\n",
        "    t = a[1][0]*b[0][1]+a[1][1]*b[1][1]\n",
        "    return [[x,y],[z,t]] \n",
        "\n",
        "\n",
        "def pow(a,n):\n",
        "    if n == 1:\n",
        "        return a\n",
        "    elif n%2 == 0:\n",
        "        t = pow(a,n/2)\n",
        "        return mul(t,t)\n",
        "    else:\n",
        "        t = pow( a , ( n - 1 ) / 2)\n",
        "        \n",
        "        return mul( mul( t , t ) , a)\n",
        "\n",
        "\n",
        "def solve():\n",
        "    global mod\n",
        "    n,k = map( int, input().split())\n",
        "    res = pow( [[1,1],[1,0]], k*2)\n",
        "    print ((res[0][0]*n) % mod)\n",
        "\n",
        "solve()"
      ],
      "execution_count": 1,
      "outputs": [
        {
          "output_type": "stream",
          "text": [
            "3 2\n",
            "15\n"
          ],
          "name": "stdout"
        }
      ]
    }
  ]
}