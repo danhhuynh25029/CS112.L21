{
  "nbformat": 4,
  "nbformat_minor": 0,
  "metadata": {
    "colab": {
      "name": "SEAWEED.ipynb",
      "provenance": [],
      "collapsed_sections": []
    },
    "kernelspec": {
      "name": "python3",
      "display_name": "Python 3"
    },
    "language_info": {
      "name": "python"
    }
  },
  "cells": [
    {
      "cell_type": "markdown",
      "metadata": {
        "id": "qYZb8_GAHJ_8"
      },
      "source": [
        "[![Open In Colab](https://colab.research.google.com/assets/colab-badge.svg)](https://colab.research.google.com/drive/1M0MyWEzB58amdiG4INasPGzHAGiLoIYN?authuser=1)"
      ]
    },
    {
      "cell_type": "markdown",
      "metadata": {
        "id": "3I_NlIzsE1ZZ"
      },
      "source": [
        "#CS112.L21-N10\n",
        "**1.\t19521322\tHuỳnh Ngọc Công Danh**\t\n",
        "\n",
        "**2.\t19521917\tNguyễn Ngọc Thái Nguyên**\n",
        "\n",
        "**3.\t19521836\tLê Quang Minh\tThành viên**\n",
        "\n",
        "**4.\t19521858\tVõ Tuấn Minh**"
      ]
    },
    {
      "cell_type": "markdown",
      "metadata": {
        "id": "jYMRmlW-ago2"
      },
      "source": [
        "## 1. ABSTRACTION (TRỪU TƯỢNG HÓA)\n",
        "Với 2 số nguyên n và k (1 ≤ n ≤ 1000, 1 ≤ k ≤ 1017) hãy xác định số i sau k ngày theo quy luật cho trước\n",
        "## 2. PATTERN RECOGNIZATION (NHẬN DIỆN KHUÔN MẪU)\n",
        "Đặc điểm nhận dạng:\n",
        "\n",
        " + Ta thấy việc tăng số  lương tăng lên theo quy luật của số fibonaci\n",
        "Kỹ thuật áp dung:\n",
        "  + Quy hoạch động.Do mướn tính được số fibonacci(n) thì ta phải tính fibo(n-1) và fibo(n-2).Để giải quyết bài toán này t phải giải quyết bài toán con mà kết quả được lưu trữ trước đó\n",
        "  + Chia để trị.Giải quyết bài toán lớn bằng cách chia ra thành những bài toán con sau đó tổng hợp ra kết quả\n",
        "\n",
        "\n",
        "## 3. ALGORITHM DESIGNED (THIẾT KẾ THUẬT TOÁN)\n",
        "Sử dung giải thuật quy hoạch động:\n",
        "  + Tạo mảng 2*n+1 phần tử và sử dụng công thức F[i] = F[i-1] + F[i-2].Tuy nhiên sẽ không đáp ứng được yêu cầu của bài toán khi k = 10^7\n",
        "  + Ta sẽ sử dụng chia để trị kết hợp với ma trận để giải quyết bài toán này\n",
        "\n",
        "Mã giả:\n",
        "\n",
        "SET mod TO int(1e9+7)\n",
        "\n",
        "\n",
        "\n",
        "DEFINE FUNCTION mul(a,b):\n",
        "\n",
        "      global mod    \n",
        "\n",
        "      SET x TO a[0][0]*b[0][0]+a[0][1]*b[1][0]\n",
        "\n",
        "      SET y TO a[0][0]*b[0][1]+a[0][1]*b[1][1]\n",
        "\n",
        "      SET z TO a[1][0]*b[0][0]+a[1][1]*b[1][0]\n",
        "\n",
        "      SET t TO a[1][0]*b[0][1]+a[1][1]*b[1][1]\n",
        "\n",
        "      RETURN [[x,y],[z,t]] \n",
        "\n",
        "\n",
        "\n",
        "\n",
        "\n",
        "DEFINE FUNCTION pow(a,n):\n",
        "\n",
        "      IF n EQUALS 1:\n",
        "\n",
        "          RETURN a\n",
        "\n",
        "      ELSEIF n%2 EQUALS 0:\n",
        "\n",
        "          SET t TO pow(a,n/2)\n",
        "\n",
        "          RETURN mul(t,t)\n",
        "\n",
        "      ELSE:\n",
        "\n",
        "          SET t TO pow( a , ( n - 1 ) / 2)\n",
        "\n",
        "        \n",
        "\n",
        "          RETURN mul( mul( t , t ) , a)\n",
        "\n",
        "\n",
        "\n",
        "\n",
        "\n",
        "DEFINE FUNCTION solve():\n",
        "\n",
        "      global mod\n",
        "\n",
        "      SET n,k TO map( int, INPUT().split())\n",
        "\n",
        "      SET res TO pow( [[1,1],[1,0]], k*2)\n",
        "\n",
        "      OUTPUT ((res[0][0]*n) % mod)\n",
        "\n",
        "\n",
        "solve()\n",
        "\n",
        "## 4. Đánh giá độ phức tạp\n",
        "Độ phức tạp thuật toán : O(log(n))\n",
        "## 5. Code mẫu"
      ]
    },
    {
      "cell_type": "code",
      "metadata": {
        "colab": {
          "base_uri": "https://localhost:8080/"
        },
        "id": "8_08GCp-eN1S",
        "outputId": "54df4c79-adad-43da-e3af-3bb72ba33745"
      },
      "source": [
        "mod = int(1e9+7)\n",
        "\n",
        "def mul(a,b):\n",
        "    global mod    \n",
        "    x = a[0][0]*b[0][0]+a[0][1]*b[1][0]\n",
        "    y = a[0][0]*b[0][1]+a[0][1]*b[1][1]\n",
        "    z = a[1][0]*b[0][0]+a[1][1]*b[1][0]\n",
        "    t = a[1][0]*b[0][1]+a[1][1]*b[1][1]\n",
        "    return [[x,y],[z,t]] \n",
        "\n",
        "\n",
        "def pow(a,n):\n",
        "    if n == 1:\n",
        "        return a\n",
        "    elif n%2 == 0:\n",
        "        t = pow(a,n/2)\n",
        "        return mul(t,t)\n",
        "    else:\n",
        "        t = pow( a , ( n - 1 ) / 2)\n",
        "        \n",
        "        return mul( mul( t , t ) , a)\n",
        "\n",
        "\n",
        "def solve():\n",
        "    global mod\n",
        "    n,k = map( int, input().split())\n",
        "    res = pow( [[1,1],[1,0]], k*2)\n",
        "    print ((res[0][0]*n) % mod)\n",
        "\n",
        "solve()"
      ],
      "execution_count": null,
      "outputs": [
        {
          "output_type": "stream",
          "text": [
            "3 2\n",
            "15\n"
          ],
          "name": "stdout"
        }
      ]
    }
  ]
}